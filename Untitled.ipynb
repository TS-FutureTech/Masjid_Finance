{
 "cells": [
  {
   "cell_type": "code",
   "execution_count": 1,
   "id": "06a9cde0-712e-4711-8611-fc1983468ded",
   "metadata": {},
   "outputs": [
    {
     "name": "stdout",
     "output_type": "stream",
     "text": [
      "Flask server started at http://192.168.100.43:5000\n"
     ]
    },
    {
     "name": "stderr",
     "output_type": "stream",
     "text": [
      "Exception in thread Thread-5 (run_app):\n",
      "Traceback (most recent call last):\n",
      "  File \"C:\\Users\\NUtech\\anaconda3\\Lib\\threading.py\", line 1075, in _bootstrap_inner\n",
      "    self.run()\n",
      "  File \"C:\\Users\\NUtech\\anaconda3\\Lib\\threading.py\", line 1012, in run\n",
      "    self._target(*self._args, **self._kwargs)\n",
      "  File \"C:\\Users\\NUtech\\AppData\\Local\\Temp\\ipykernel_6472\\80494254.py\", line 50, in run_app\n",
      "NameError: name 'initialize_database' is not defined\n"
     ]
    }
   ],
   "source": [
    "import sqlite3\n",
    "from datetime import datetime\n",
    "from flask import Flask, render_template, request, redirect, url_for\n",
    "import threading\n",
    "\n",
    "app = Flask(__name__)\n",
    "\n",
    "# [Keep all functions like initialize_database, add_record, view_records, financial_summary, and routes as in the mobile version]\n",
    "\n",
    "# Routes (same as before)\n",
    "@app.route('/')\n",
    "def index():\n",
    "    return render_template('index.html')\n",
    "\n",
    "@app.route('/add', methods=['GET', 'POST'])\n",
    "def add():\n",
    "    if request.method == 'POST':\n",
    "        try:\n",
    "            record_type = request.form['record_type']\n",
    "            data = {\n",
    "                'name': request.form.get('name', request.form.get('description', '')),\n",
    "                'amount': float(request.form['amount']),\n",
    "                'purpose': request.form.get('purpose', ''),\n",
    "                'category': request.form.get('category', ''),\n",
    "                'condition': request.form.get('condition', ''),\n",
    "                'description': request.form.get('description', '')\n",
    "            }\n",
    "            add_record(record_type, data)\n",
    "            return redirect(url_for('index'))\n",
    "        except ValueError:\n",
    "            return \"Invalid amount entered. Please use a number.\", 400\n",
    "    return render_template('add.html')\n",
    "\n",
    "@app.route('/view/<table>')\n",
    "def view(table):\n",
    "    if table in ['donations', 'expenditures', 'assets']:\n",
    "        records = view_records(table)\n",
    "        return render_template('view.html', records=records, table_name=table)\n",
    "    return redirect(url_for('index'))\n",
    "\n",
    "@app.route('/summary')\n",
    "def summary():\n",
    "    total_donations, total_expenditures, balance, total_assets = financial_summary()\n",
    "    return render_template('summary.html', total_donations=total_donations, \n",
    "                           total_expenditures=total_expenditures, balance=balance, \n",
    "                           total_assets=total_assets)\n",
    "\n",
    "# Run Flask in a separate thread\n",
    "def run_app():\n",
    "    initialize_database()\n",
    "    app.run(debug=True, host='0.0.0.0', port=5000, use_reloader=False)\n",
    "\n",
    "# Start the server in a background thread\n",
    "threading.Thread(target=run_app, daemon=True).start()\n",
    "print(\"Flask server started at http://192.168.100.43:5000\")"
   ]
  },
  {
   "cell_type": "code",
   "execution_count": 5,
   "id": "dd8e81c0-b8cf-42e7-9b8a-34d380142533",
   "metadata": {},
   "outputs": [],
   "source": [
    "def initialize_database():\n",
    "    conn = sqlite3.connect('finance.db')\n",
    "    c = conn.cursor()\n",
    "    \n",
    "    # Create tables if they don't exist\n",
    "    c.execute('''CREATE TABLE IF NOT EXISTS donations\n",
    "                 (id INTEGER PRIMARY KEY AUTOINCREMENT, name TEXT, amount REAL, purpose TEXT, date TEXT)''')\n",
    "    \n",
    "    c.execute('''CREATE TABLE IF NOT EXISTS expenditures\n",
    "                 (id INTEGER PRIMARY KEY AUTOINCREMENT, description TEXT, amount REAL, category TEXT, date TEXT)''')\n",
    "    \n",
    "    c.execute('''CREATE TABLE IF NOT EXISTS assets\n",
    "                 (id INTEGER PRIMARY KEY AUTOINCREMENT, name TEXT, amount REAL, condition TEXT, date TEXT)''')\n",
    "    \n",
    "    conn.commit()\n",
    "    conn.close()"
   ]
  },
  {
   "cell_type": "code",
   "execution_count": 7,
   "id": "838567b5-abc2-43e7-a2fd-0908a00576e8",
   "metadata": {},
   "outputs": [],
   "source": [
    "def add_record(record_type, data):\n",
    "    conn = sqlite3.connect('finance.db')\n",
    "    c = conn.cursor()\n",
    "    \n",
    "    data['date'] = datetime.now().strftime('%Y-%m-%d %H:%M:%S')\n",
    "    \n",
    "    if record_type == 'donations':\n",
    "        c.execute('''INSERT INTO donations (name, amount, purpose, date)\n",
    "                     VALUES (?, ?, ?, ?)''', (data['name'], data['amount'], data['purpose'], data['date']))\n",
    "    elif record_type == 'expenditures':\n",
    "        c.execute('''INSERT INTO expenditures (description, amount, category, date)\n",
    "                     VALUES (?, ?, ?, ?)''', (data['description'], data['amount'], data['category'], data['date']))\n",
    "    elif record_type == 'assets':\n",
    "        c.execute('''INSERT INTO assets (name, amount, condition, date)\n",
    "                     VALUES (?, ?, ?, ?)''', (data['name'], data['amount'], data['condition'], data['date']))\n",
    "    \n",
    "    conn.commit()\n",
    "    conn.close()"
   ]
  },
  {
   "cell_type": "code",
   "execution_count": 9,
   "id": "59b33485-df72-4331-b20f-86e64db1d97a",
   "metadata": {},
   "outputs": [
    {
     "name": "stdout",
     "output_type": "stream",
     "text": [
      "Requirement already satisfied: streamlit in c:\\users\\nutech\\anaconda3\\lib\\site-packages (1.37.1)\n",
      "Requirement already satisfied: altair<6,>=4.0 in c:\\users\\nutech\\anaconda3\\lib\\site-packages (from streamlit) (5.0.1)\n",
      "Requirement already satisfied: blinker<2,>=1.0.0 in c:\\users\\nutech\\anaconda3\\lib\\site-packages (from streamlit) (1.6.2)\n",
      "Requirement already satisfied: cachetools<6,>=4.0 in c:\\users\\nutech\\anaconda3\\lib\\site-packages (from streamlit) (5.3.3)\n",
      "Requirement already satisfied: click<9,>=7.0 in c:\\users\\nutech\\anaconda3\\lib\\site-packages (from streamlit) (8.1.7)\n",
      "Requirement already satisfied: numpy<3,>=1.20 in c:\\users\\nutech\\anaconda3\\lib\\site-packages (from streamlit) (1.26.4)\n",
      "Requirement already satisfied: packaging<25,>=20 in c:\\users\\nutech\\anaconda3\\lib\\site-packages (from streamlit) (24.1)\n",
      "Requirement already satisfied: pandas<3,>=1.3.0 in c:\\users\\nutech\\anaconda3\\lib\\site-packages (from streamlit) (2.2.2)\n",
      "Requirement already satisfied: pillow<11,>=7.1.0 in c:\\users\\nutech\\anaconda3\\lib\\site-packages (from streamlit) (10.4.0)\n",
      "Requirement already satisfied: protobuf<6,>=3.20 in c:\\users\\nutech\\anaconda3\\lib\\site-packages (from streamlit) (4.25.3)\n",
      "Requirement already satisfied: pyarrow>=7.0 in c:\\users\\nutech\\anaconda3\\lib\\site-packages (from streamlit) (16.1.0)\n",
      "Requirement already satisfied: requests<3,>=2.27 in c:\\users\\nutech\\anaconda3\\lib\\site-packages (from streamlit) (2.32.3)\n",
      "Requirement already satisfied: rich<14,>=10.14.0 in c:\\users\\nutech\\anaconda3\\lib\\site-packages (from streamlit) (13.7.1)\n",
      "Requirement already satisfied: tenacity<9,>=8.1.0 in c:\\users\\nutech\\anaconda3\\lib\\site-packages (from streamlit) (8.2.3)\n",
      "Requirement already satisfied: toml<2,>=0.10.1 in c:\\users\\nutech\\anaconda3\\lib\\site-packages (from streamlit) (0.10.2)\n",
      "Requirement already satisfied: typing-extensions<5,>=4.3.0 in c:\\users\\nutech\\anaconda3\\lib\\site-packages (from streamlit) (4.11.0)\n",
      "Requirement already satisfied: gitpython!=3.1.19,<4,>=3.0.7 in c:\\users\\nutech\\anaconda3\\lib\\site-packages (from streamlit) (3.1.43)\n",
      "Requirement already satisfied: pydeck<1,>=0.8.0b4 in c:\\users\\nutech\\anaconda3\\lib\\site-packages (from streamlit) (0.8.0)\n",
      "Requirement already satisfied: tornado<7,>=6.0.3 in c:\\users\\nutech\\anaconda3\\lib\\site-packages (from streamlit) (6.4.1)\n",
      "Requirement already satisfied: watchdog<5,>=2.1.5 in c:\\users\\nutech\\anaconda3\\lib\\site-packages (from streamlit) (4.0.1)\n",
      "Requirement already satisfied: jinja2 in c:\\users\\nutech\\anaconda3\\lib\\site-packages (from altair<6,>=4.0->streamlit) (3.1.4)\n",
      "Requirement already satisfied: jsonschema>=3.0 in c:\\users\\nutech\\anaconda3\\lib\\site-packages (from altair<6,>=4.0->streamlit) (4.23.0)\n",
      "Requirement already satisfied: toolz in c:\\users\\nutech\\anaconda3\\lib\\site-packages (from altair<6,>=4.0->streamlit) (0.12.0)\n",
      "Requirement already satisfied: colorama in c:\\users\\nutech\\anaconda3\\lib\\site-packages (from click<9,>=7.0->streamlit) (0.4.6)\n",
      "Requirement already satisfied: gitdb<5,>=4.0.1 in c:\\users\\nutech\\anaconda3\\lib\\site-packages (from gitpython!=3.1.19,<4,>=3.0.7->streamlit) (4.0.7)\n",
      "Requirement already satisfied: python-dateutil>=2.8.2 in c:\\users\\nutech\\anaconda3\\lib\\site-packages (from pandas<3,>=1.3.0->streamlit) (2.9.0.post0)\n",
      "Requirement already satisfied: pytz>=2020.1 in c:\\users\\nutech\\anaconda3\\lib\\site-packages (from pandas<3,>=1.3.0->streamlit) (2024.1)\n",
      "Requirement already satisfied: tzdata>=2022.7 in c:\\users\\nutech\\anaconda3\\lib\\site-packages (from pandas<3,>=1.3.0->streamlit) (2023.3)\n",
      "Requirement already satisfied: charset-normalizer<4,>=2 in c:\\users\\nutech\\anaconda3\\lib\\site-packages (from requests<3,>=2.27->streamlit) (3.3.2)\n",
      "Requirement already satisfied: idna<4,>=2.5 in c:\\users\\nutech\\anaconda3\\lib\\site-packages (from requests<3,>=2.27->streamlit) (3.7)\n",
      "Requirement already satisfied: urllib3<3,>=1.21.1 in c:\\users\\nutech\\anaconda3\\lib\\site-packages (from requests<3,>=2.27->streamlit) (2.2.3)\n",
      "Requirement already satisfied: certifi>=2017.4.17 in c:\\users\\nutech\\anaconda3\\lib\\site-packages (from requests<3,>=2.27->streamlit) (2024.8.30)\n",
      "Requirement already satisfied: markdown-it-py>=2.2.0 in c:\\users\\nutech\\anaconda3\\lib\\site-packages (from rich<14,>=10.14.0->streamlit) (2.2.0)\n",
      "Requirement already satisfied: pygments<3.0.0,>=2.13.0 in c:\\users\\nutech\\anaconda3\\lib\\site-packages (from rich<14,>=10.14.0->streamlit) (2.15.1)\n",
      "Requirement already satisfied: smmap<5,>=3.0.1 in c:\\users\\nutech\\anaconda3\\lib\\site-packages (from gitdb<5,>=4.0.1->gitpython!=3.1.19,<4,>=3.0.7->streamlit) (4.0.0)\n",
      "Requirement already satisfied: MarkupSafe>=2.0 in c:\\users\\nutech\\anaconda3\\lib\\site-packages (from jinja2->altair<6,>=4.0->streamlit) (2.1.3)\n",
      "Requirement already satisfied: attrs>=22.2.0 in c:\\users\\nutech\\anaconda3\\lib\\site-packages (from jsonschema>=3.0->altair<6,>=4.0->streamlit) (24.3.0)\n",
      "Requirement already satisfied: jsonschema-specifications>=2023.03.6 in c:\\users\\nutech\\anaconda3\\lib\\site-packages (from jsonschema>=3.0->altair<6,>=4.0->streamlit) (2023.7.1)\n",
      "Requirement already satisfied: referencing>=0.28.4 in c:\\users\\nutech\\anaconda3\\lib\\site-packages (from jsonschema>=3.0->altair<6,>=4.0->streamlit) (0.30.2)\n",
      "Requirement already satisfied: rpds-py>=0.7.1 in c:\\users\\nutech\\anaconda3\\lib\\site-packages (from jsonschema>=3.0->altair<6,>=4.0->streamlit) (0.10.6)\n",
      "Requirement already satisfied: mdurl~=0.1 in c:\\users\\nutech\\anaconda3\\lib\\site-packages (from markdown-it-py>=2.2.0->rich<14,>=10.14.0->streamlit) (0.1.0)\n",
      "Requirement already satisfied: six>=1.5 in c:\\users\\nutech\\anaconda3\\lib\\site-packages (from python-dateutil>=2.8.2->pandas<3,>=1.3.0->streamlit) (1.16.0)\n",
      "Note: you may need to restart the kernel to use updated packages.\n"
     ]
    },
    {
     "name": "stderr",
     "output_type": "stream",
     "text": [
      "\n",
      "[notice] A new release of pip is available: 24.3.1 -> 25.0.1\n",
      "[notice] To update, run: python.exe -m pip install --upgrade pip\n"
     ]
    }
   ],
   "source": [
    "pip install streamlit"
   ]
  },
  {
   "cell_type": "code",
   "execution_count": 11,
   "id": "2d6f0d8f-f98b-449f-8b36-5d0de957e7aa",
   "metadata": {},
   "outputs": [
    {
     "ename": "SyntaxError",
     "evalue": "invalid syntax (1817081337.py, line 1)",
     "output_type": "error",
     "traceback": [
      "\u001b[1;36m  Cell \u001b[1;32mIn[11], line 1\u001b[1;36m\u001b[0m\n\u001b[1;33m    streamlit run streamlit_app.py\u001b[0m\n\u001b[1;37m              ^\u001b[0m\n\u001b[1;31mSyntaxError\u001b[0m\u001b[1;31m:\u001b[0m invalid syntax\n"
     ]
    }
   ],
   "source": [
    "streamlit run streamlit_app.py"
   ]
  },
  {
   "cell_type": "code",
   "execution_count": null,
   "id": "31901d65-4a70-4232-89b8-51c479a4c299",
   "metadata": {},
   "outputs": [],
   "source": []
  }
 ],
 "metadata": {
  "kernelspec": {
   "display_name": "Python 3 (ipykernel)",
   "language": "python",
   "name": "python3"
  },
  "language_info": {
   "codemirror_mode": {
    "name": "ipython",
    "version": 3
   },
   "file_extension": ".py",
   "mimetype": "text/x-python",
   "name": "python",
   "nbconvert_exporter": "python",
   "pygments_lexer": "ipython3",
   "version": "3.12.7"
  }
 },
 "nbformat": 4,
 "nbformat_minor": 5
}
